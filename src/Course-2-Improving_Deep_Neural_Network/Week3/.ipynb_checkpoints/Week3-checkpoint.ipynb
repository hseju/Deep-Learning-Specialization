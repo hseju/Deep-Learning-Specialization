{
 "cells": [
  {
   "cell_type": "markdown",
   "id": "25b536ad-5ca6-4ce0-9b1f-a2d0319a47a7",
   "metadata": {},
   "source": [
    "# WEEK 3\n"
   ]
  },
  {
   "cell_type": "markdown",
   "id": "6cce3bd9-4eb7-4b5c-b696-62d30d3eed90",
   "metadata": {},
   "source": [
    "### Hyperparameter Tuning\n",
    "\n",
    "Mostly the hyperparameters values are chosen at random, but it is a good practice to develop a scale and do random sampling in that scale of values. "
   ]
  },
  {
   "cell_type": "code",
   "execution_count": null,
   "id": "5b830a8f-37d0-47db-a871-9b8e2df95d84",
   "metadata": {},
   "outputs": [],
   "source": []
  }
 ],
 "metadata": {
  "kernelspec": {
   "display_name": "Python 3 (ipykernel)",
   "language": "python",
   "name": "python3"
  },
  "language_info": {
   "codemirror_mode": {
    "name": "ipython",
    "version": 3
   },
   "file_extension": ".py",
   "mimetype": "text/x-python",
   "name": "python",
   "nbconvert_exporter": "python",
   "pygments_lexer": "ipython3",
   "version": "3.9.7"
  }
 },
 "nbformat": 4,
 "nbformat_minor": 5
}
