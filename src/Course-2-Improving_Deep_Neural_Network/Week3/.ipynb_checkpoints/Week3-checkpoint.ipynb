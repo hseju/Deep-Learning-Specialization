{
 "cells": [
  {
   "cell_type": "markdown",
   "id": "25b536ad-5ca6-4ce0-9b1f-a2d0319a47a7",
   "metadata": {},
   "source": [
    "# WEEK 3\n"
   ]
  },
  {
   "cell_type": "markdown",
   "id": "6cce3bd9-4eb7-4b5c-b696-62d30d3eed90",
   "metadata": {},
   "source": [
    "### Hyperparameter Tuning\n",
    "\n",
    "Mostly the hyperparameters values are chosen at random, but it is a good practice to develop a scale and do random sampling in that scale of values. "
   ]
  },
  {
   "cell_type": "markdown",
   "id": "4613d260-e028-4628-a15b-bd2833c7c36a",
   "metadata": {},
   "source": [
    "### Batch Normalization\n",
    "\n",
    "The idea of batch normalization is to normalize the values of Z in one layer between the mean of 0 to the variance of 1 and use these values as inputs to the next layers units. This has an advantage of faster learning as well as it also slightly provides the regularization effect. In this equations the $b^{[l]} $ is neglected and two parameters $\\beta$ and $\\gamma$ are used to form a Znorm equation of $ Z\\tilde = \\gamma *Z_norm + \\beta$. "
   ]
  },
  {
   "cell_type": "code",
   "execution_count": null,
   "id": "c023f293-bb60-43f9-a1ee-305b36498048",
   "metadata": {},
   "outputs": [],
   "source": []
  }
 ],
 "metadata": {
  "kernelspec": {
   "display_name": "Python 3 (ipykernel)",
   "language": "python",
   "name": "python3"
  },
  "language_info": {
   "codemirror_mode": {
    "name": "ipython",
    "version": 3
   },
   "file_extension": ".py",
   "mimetype": "text/x-python",
   "name": "python",
   "nbconvert_exporter": "python",
   "pygments_lexer": "ipython3",
   "version": "3.9.7"
  }
 },
 "nbformat": 4,
 "nbformat_minor": 5
}
